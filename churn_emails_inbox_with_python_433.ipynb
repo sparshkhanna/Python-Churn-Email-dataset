{
 "cells": [
  {
   "cell_type": "code",
   "execution_count": 3,
   "metadata": {},
   "outputs": [],
   "source": [
    "def number_of_lines():\n",
    "    fhand= open('/cxldata/datasets/project/mbox-short.txt')\n",
    "    inp=fhand.read()\n",
    "    c=0\n",
    "    for i in inp:\n",
    "        if i==\"\\n\":\n",
    "            c+=1\n",
    "    return c\n",
    "    "
   ]
  },
  {
   "cell_type": "code",
   "execution_count": 11,
   "metadata": {},
   "outputs": [],
   "source": [
    "def count_number_of_lines():\n",
    "    fhand=open('/cxldata/datasets/project/mbox-short.txt')\n",
    "    c=0\n",
    "    for line in fhand:\n",
    "        line=line.rstrip()\n",
    "        if line.startswith('Subject:'):\n",
    "            c+=1\n",
    "    return c"
   ]
  },
  {
   "cell_type": "code",
   "execution_count": 19,
   "metadata": {},
   "outputs": [],
   "source": [
    "def average_spam_confidence():\n",
    "    fhand=open('/cxldata/datasets/project/mbox-short.txt')\n",
    "    c=0\n",
    "    sc=0\n",
    "    for line in fhand:\n",
    "        line=line.rstrip()\n",
    "        if line.startswith('X-DSPAM-Confidence:'):\n",
    "            var, value=line.split(':')\n",
    "            sc=sc+float(value)\n",
    "            c+=1\n",
    "    return (sc/c)\n",
    "           \n",
    "            \n",
    "            \n",
    "            \n",
    "        "
   ]
  },
  {
   "cell_type": "code",
   "execution_count": 26,
   "metadata": {},
   "outputs": [],
   "source": [
    "def find_email_sent_days():\n",
    "    fhand=open('/cxldata/datasets/project/mbox-short.txt')\n",
    "    c=0\n",
    "    day_mails={}\n",
    "    for line in fhand:\n",
    "        line=line.rstrip()\n",
    "        if line.startswith('From '):\n",
    "            day=line.split(\" \")[2].strip()\n",
    "            day_mails[day]=day_mails.get(day,0)+1\n",
    "    return day_mails\n",
    "            "
   ]
  },
  {
   "cell_type": "code",
   "execution_count": 105,
   "metadata": {},
   "outputs": [],
   "source": [
    "def count_message_from_email():\n",
    "    fhand=open('/cxldata/datasets/project/mbox-short.txt')\n",
    "    msg_from_mail={}\n",
    "    for line in fhand:\n",
    "        line=line.rstrip()\n",
    "        if line.startswith('From:') and ('@') in line:\n",
    "            sp=line.split()\n",
    "            email=sp[1]\n",
    "            msg_from_mail[email]=msg_from_mail.get(email,0)+1\n",
    "    \n",
    "    return msg_from_mail\n",
    "        \n",
    "            "
   ]
  },
  {
   "cell_type": "code",
   "execution_count": 118,
   "metadata": {},
   "outputs": [],
   "source": [
    "def count_message_from_domain():\n",
    "    fhand=open('/cxldata/datasets/project/mbox-short.txt')\n",
    "    domain={}\n",
    "    for line in fhand:\n",
    "        line=line.rstrip()\n",
    "        if line.startswith('From:'):\n",
    "            dm=line.split('@')[-1]\n",
    "            domain[dm]=domain.get(dm,0)+1\n",
    "    return domain\n",
    "            "
   ]
  },
  {
   "cell_type": "code",
   "execution_count": null,
   "metadata": {},
   "outputs": [],
   "source": []
  }
 ],
 "metadata": {
  "kernelspec": {
   "display_name": "Python 3",
   "language": "python",
   "name": "python3"
  },
  "language_info": {
   "codemirror_mode": {
    "name": "ipython",
    "version": 3
   },
   "file_extension": ".py",
   "mimetype": "text/x-python",
   "name": "python",
   "nbconvert_exporter": "python",
   "pygments_lexer": "ipython3",
   "version": "3.6.8"
  },
  "toc": {
   "base_numbering": 1,
   "nav_menu": {},
   "number_sections": true,
   "sideBar": true,
   "skip_h1_title": false,
   "title_cell": "Table of Contents",
   "title_sidebar": "Contents",
   "toc_cell": false,
   "toc_position": {},
   "toc_section_display": true,
   "toc_window_display": false
  }
 },
 "nbformat": 4,
 "nbformat_minor": 2
}
